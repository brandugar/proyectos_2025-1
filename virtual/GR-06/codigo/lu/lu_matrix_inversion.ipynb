{
  "nbformat": 4,
  "nbformat_minor": 0,
  "metadata": {
    "colab": {
      "provenance": [],
      "authorship_tag": "ABX9TyMfbf3gmAiQu1ikCiwttDf0"
    },
    "kernelspec": {
      "name": "python3",
      "display_name": "Python 3"
    },
    "language_info": {
      "name": "python"
    }
  },
  "cells": [
    {
      "cell_type": "markdown",
      "source": [
        "# Algoritmo LU para inversión de matrices"
      ],
      "metadata": {
        "id": "yorVnBxM0nYX"
      }
    },
    {
      "cell_type": "markdown",
      "source": [
        "Realizamos los importes necesarios"
      ],
      "metadata": {
        "id": "S_mQwEI90qhX"
      }
    },
    {
      "cell_type": "code",
      "execution_count": 1,
      "metadata": {
        "id": "64EAiLj30Rq5"
      },
      "outputs": [],
      "source": [
        "import numpy as np\n",
        "import time"
      ]
    },
    {
      "cell_type": "markdown",
      "source": [
        "Definimos la función con la que leeremos el archivo .csv que contiene la matriz a invertir."
      ],
      "metadata": {
        "id": "DiQUrb6P0uyb"
      }
    },
    {
      "cell_type": "code",
      "source": [
        "def leer_csv(nombre_archivo):\n",
        "    try:\n",
        "        matriz = np.loadtxt(nombre_archivo, delimiter=\",\")\n",
        "        if matriz.shape[0] != matriz.shape[1]:\n",
        "            raise ValueError(\"La matriz no es cuadrada\")\n",
        "        return matriz\n",
        "    except Exception as e:\n",
        "        print(f\"Error al leer el archivo CSV: {e}\")\n",
        "        return None"
      ],
      "metadata": {
        "id": "uAaopQSp05lV"
      },
      "execution_count": 2,
      "outputs": []
    },
    {
      "cell_type": "markdown",
      "source": [
        "Definimos la función que hace la descomposición LU de la matriz original"
      ],
      "metadata": {
        "id": "0CF1Silr09Jd"
      }
    },
    {
      "cell_type": "code",
      "source": [
        "def lu_decomposition(A):\n",
        "    N = A.shape[0]\n",
        "    L = np.zeros((N, N))\n",
        "    U = np.zeros((N, N))\n",
        "\n",
        "    for i in range(N):\n",
        "        for k in range(i, N):\n",
        "            suma = sum(L[i][j] * U[j][k] for j in range(i))\n",
        "            U[i][k] = A[i][k] - suma\n",
        "\n",
        "        for k in range(i, N):\n",
        "            if i == k:\n",
        "                L[i][i] = 1.0\n",
        "            else:\n",
        "                suma = sum(L[k][j] * U[j][i] for j in range(i))\n",
        "                L[k][i] = (A[k][i] - suma) / U[i][i]\n",
        "\n",
        "    return L, U"
      ],
      "metadata": {
        "id": "GS2FPbTF1AaO"
      },
      "execution_count": 3,
      "outputs": []
    },
    {
      "cell_type": "markdown",
      "source": [
        "Definimos la función que hace la sustitución hacia adelante"
      ],
      "metadata": {
        "id": "GHoV4mwN1DKc"
      }
    },
    {
      "cell_type": "code",
      "source": [
        "def forward_substitution(L, b):\n",
        "    N = L.shape[0]\n",
        "    y = np.zeros(N)\n",
        "    for i in range(N):\n",
        "        y[i] = b[i] - np.dot(L[i, :i], y[:i])\n",
        "    return y"
      ],
      "metadata": {
        "id": "geF2pPRU1IS3"
      },
      "execution_count": 4,
      "outputs": []
    },
    {
      "cell_type": "markdown",
      "source": [
        "Definimos la función que hace la sustitución hacia atrás"
      ],
      "metadata": {
        "id": "2oHNjmhy1LE4"
      }
    },
    {
      "cell_type": "code",
      "source": [
        "def backward_substitution(U, y):\n",
        "    N = U.shape[0]\n",
        "    x = np.zeros(N)\n",
        "    for i in reversed(range(N)):\n",
        "        x[i] = (y[i] - np.dot(U[i, i+1:], x[i+1:])) / U[i][i]\n",
        "    return x"
      ],
      "metadata": {
        "id": "E6LmGHPg1JIl"
      },
      "execution_count": 5,
      "outputs": []
    },
    {
      "cell_type": "markdown",
      "source": [
        "Definimos la función final que hace la inversión de la matriz haciendo uso de forward_substitution y backward_substitution"
      ],
      "metadata": {
        "id": "GdwfuHDT1Pqg"
      }
    },
    {
      "cell_type": "code",
      "source": [
        "def invertir_matriz(A):\n",
        "    N = A.shape[0]\n",
        "    L, U = lu_decomposition(A)\n",
        "    A_inv = np.zeros_like(A)\n",
        "\n",
        "    for i in range(N):\n",
        "        e = np.zeros(N)\n",
        "        e[i] = 1.0\n",
        "        y = forward_substitution(L, e)\n",
        "        x = backward_substitution(U, y)\n",
        "        A_inv[:, i] = x\n",
        "\n",
        "    return A_inv\n"
      ],
      "metadata": {
        "id": "di1lYiU41SGi"
      },
      "execution_count": 6,
      "outputs": []
    },
    {
      "cell_type": "markdown",
      "source": [
        "Probamos el código"
      ],
      "metadata": {
        "id": "IEKrAcW31i7H"
      }
    },
    {
      "cell_type": "code",
      "source": [
        "nombre_archivo = \"matriz.csv\"\n",
        "A = leer_csv(nombre_archivo)\n",
        "\n",
        "if A is not None:\n",
        "    N = A.shape[0]\n",
        "\n",
        "    start_time = time.time()\n",
        "    A_inv = invertir_matriz(A)\n",
        "    end_time = time.time()\n",
        "\n",
        "    if N <= 10:\n",
        "        print(\"Matriz inversa A^-1:\")\n",
        "        print(np.round(A_inv, 4))\n",
        "    else:\n",
        "        np.savetxt(\"inversa.csv\", A_inv, delimiter=\",\", fmt=\"%.10f\")\n",
        "        print(\"Matriz inversa guardada en 'inversa.csv' (no se muestra por ser mayor de 10x10).\")\n",
        "\n",
        "    print(f\"\\nTiempo de ejecución: {end_time - start_time:.6f} segundos\")\n"
      ],
      "metadata": {
        "colab": {
          "base_uri": "https://localhost:8080/"
        },
        "id": "GYnboFUw1YsE",
        "outputId": "13d9857f-3916-401a-a57c-da7d759183b4"
      },
      "execution_count": 20,
      "outputs": [
        {
          "output_type": "stream",
          "name": "stdout",
          "text": [
            "Matriz inversa guardada en 'inversa.csv' (no se muestra por ser mayor de 10x10).\n",
            "\n",
            "Tiempo de ejecución: 31.803689 segundos\n"
          ]
        }
      ]
    }
  ]
}
