{
  "nbformat": 4,
  "nbformat_minor": 0,
  "metadata": {
    "colab": {
      "provenance": [],
      "authorship_tag": "ABX9TyPATYI1ibZ+VwNxOaAaXTNW"
    },
    "kernelspec": {
      "name": "python3",
      "display_name": "Python 3"
    },
    "language_info": {
      "name": "python"
    }
  },
  "cells": [
    {
      "cell_type": "markdown",
      "source": [
        "# Algoritmo LU para inversión de matrices con paralelismo"
      ],
      "metadata": {
        "id": "iFHjjSJP3Qck"
      }
    },
    {
      "cell_type": "markdown",
      "source": [
        "Importes necesarios"
      ],
      "metadata": {
        "id": "bRVYYKUq3Xnz"
      }
    },
    {
      "cell_type": "code",
      "execution_count": 1,
      "metadata": {
        "id": "FYtou8263L8L"
      },
      "outputs": [],
      "source": [
        "import numpy as np\n",
        "import threading\n",
        "import time"
      ]
    },
    {
      "cell_type": "markdown",
      "source": [
        "Definimos la función para leer la matriz de un archivo .csv"
      ],
      "metadata": {
        "id": "0o-MTQSd3enC"
      }
    },
    {
      "cell_type": "code",
      "source": [
        "def leer_csv(nombre_archivo):\n",
        "    try:\n",
        "        A = np.loadtxt(nombre_archivo, delimiter=\",\")\n",
        "        if A.shape[0] != A.shape[1]:\n",
        "            raise ValueError(\"La matriz no es cuadrada\")\n",
        "        return A\n",
        "    except Exception as e:\n",
        "        print(f\"Error al leer el archivo CSV: {e}\")\n",
        "        return None"
      ],
      "metadata": {
        "id": "TJ9QeXpr3i3e"
      },
      "execution_count": 2,
      "outputs": []
    },
    {
      "cell_type": "markdown",
      "source": [
        "Definimos la función que hace la descomposición LU de la matriz original"
      ],
      "metadata": {
        "id": "tQVD4Zcl3moM"
      }
    },
    {
      "cell_type": "code",
      "source": [
        "def lu_decomposition(A):\n",
        "    N = A.shape[0]\n",
        "    L = np.zeros((N, N))\n",
        "    U = np.zeros((N, N))\n",
        "\n",
        "    for i in range(N):\n",
        "        for k in range(i, N):\n",
        "            suma = sum(L[i][j] * U[j][k] for j in range(i))\n",
        "            U[i][k] = A[i][k] - suma\n",
        "\n",
        "        for k in range(i, N):\n",
        "            if i == k:\n",
        "                L[i][i] = 1.0\n",
        "            else:\n",
        "                suma = sum(L[k][j] * U[j][i] for j in range(i))\n",
        "                L[k][i] = (A[k][i] - suma) / U[i][i]\n",
        "\n",
        "    return L, U"
      ],
      "metadata": {
        "id": "QKbtHPzg3q5g"
      },
      "execution_count": 3,
      "outputs": []
    },
    {
      "cell_type": "markdown",
      "source": [
        "Definimos la función de sustitución hacia adelante"
      ],
      "metadata": {
        "id": "Vv1hc63v3sAd"
      }
    },
    {
      "cell_type": "code",
      "source": [
        "def forward_substitution(L, b):\n",
        "    N = L.shape[0]\n",
        "    y = np.zeros(N)\n",
        "    for i in range(N):\n",
        "        y[i] = b[i] - np.dot(L[i, :i], y[:i])\n",
        "    return y"
      ],
      "metadata": {
        "id": "zi_dPjwz3xNC"
      },
      "execution_count": 5,
      "outputs": []
    },
    {
      "cell_type": "markdown",
      "source": [
        "Definimos la función de sustitución hacia atrás"
      ],
      "metadata": {
        "id": "HYMQfLGB3x1-"
      }
    },
    {
      "cell_type": "code",
      "source": [
        "def backward_substitution(U, y):\n",
        "    N = U.shape[0]\n",
        "    x = np.zeros(N)\n",
        "    for i in reversed(range(N)):\n",
        "        x[i] = (y[i] - np.dot(U[i, i+1:], x[i+1:])) / U[i][i]\n",
        "    return x"
      ],
      "metadata": {
        "id": "bE2S9h5i30XG"
      },
      "execution_count": 6,
      "outputs": []
    },
    {
      "cell_type": "markdown",
      "source": [
        "Definimos la función que invierte una columna específica de la matriz original"
      ],
      "metadata": {
        "id": "U4jS-N2i35CN"
      }
    },
    {
      "cell_type": "code",
      "source": [
        "def invertir_columna(i, L, U, A_inv, N):\n",
        "    e = np.zeros(N)\n",
        "    e[i] = 1.0\n",
        "    y = forward_substitution(L, e)\n",
        "    x = backward_substitution(U, y)\n",
        "    A_inv[:, i] = x"
      ],
      "metadata": {
        "id": "PyRotkGL3-Jl"
      },
      "execution_count": 7,
      "outputs": []
    },
    {
      "cell_type": "markdown",
      "source": [
        "Definimos la función que hará la inversión de toda la matriz usando hilos para cada columna."
      ],
      "metadata": {
        "id": "16_4Y4Hr4Be-"
      }
    },
    {
      "cell_type": "code",
      "source": [
        "def invertir_matriz(A):\n",
        "    N = A.shape[0]\n",
        "    L, U = lu_decomposition(A)\n",
        "    A_inv = np.zeros_like(A)\n",
        "\n",
        "    hilos = []\n",
        "    for i in range(N):\n",
        "        hilo = threading.Thread(target=invertir_columna, args=(i, L, U, A_inv, N))\n",
        "        hilos.append(hilo)\n",
        "        hilo.start()\n",
        "\n",
        "    for hilo in hilos:\n",
        "        hilo.join()\n",
        "\n",
        "    return A_inv"
      ],
      "metadata": {
        "id": "oRT5FXh34FHO"
      },
      "execution_count": 8,
      "outputs": []
    },
    {
      "cell_type": "markdown",
      "source": [
        "Probamos el algoritmo"
      ],
      "metadata": {
        "id": "PYGvwt0r4H8p"
      }
    },
    {
      "cell_type": "code",
      "source": [
        "A = leer_csv(\"matriz.csv\")\n",
        "if A is not None:\n",
        "    N = A.shape[0]\n",
        "\n",
        "    start = time.time()\n",
        "    A_inv = invertir_matriz(A)\n",
        "    end = time.time()\n",
        "\n",
        "    if N <= 10:\n",
        "        print(\"Matriz inversa A^-1:\")\n",
        "        print(np.round(A_inv, 6))\n",
        "    else:\n",
        "        np.savetxt(\"inversa.csv\", A_inv, delimiter=\",\", fmt=\"%.10f\")\n",
        "        print(\"Matriz inversa guardada en 'inversa.csv' (no se muestra por ser mayor de 10x10).\")\n",
        "\n",
        "    print(f\"\\nTiempo de ejecución (solo inversión): {end - start:.6f} segundos\")"
      ],
      "metadata": {
        "colab": {
          "base_uri": "https://localhost:8080/"
        },
        "id": "V03jQa7r4HgK",
        "outputId": "c18788fd-5b01-4742-cd1c-4329a79fe229"
      },
      "execution_count": 10,
      "outputs": [
        {
          "output_type": "stream",
          "name": "stdout",
          "text": [
            "Matriz inversa guardada en 'inversa.csv' (no se muestra por ser mayor de 10x10).\n",
            "\n",
            "Tiempo de ejecución (solo inversión): 38.462295 segundos\n"
          ]
        }
      ]
    }
  ]
}
